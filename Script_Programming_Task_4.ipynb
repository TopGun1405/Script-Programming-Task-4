{
 "cells": [
  {
   "cell_type": "markdown",
   "id": "97f503c6",
   "metadata": {},
   "source": [
    "---"
   ]
  },
  {
   "cell_type": "markdown",
   "id": "1a4e4a7a",
   "metadata": {},
   "source": [
    "## 2020136006학번 국건"
   ]
  },
  {
   "cell_type": "markdown",
   "id": "b9836d53",
   "metadata": {},
   "source": [
    "---"
   ]
  },
  {
   "cell_type": "markdown",
   "id": "02136d73",
   "metadata": {},
   "source": [
    "### [일반 문제]"
   ]
  },
  {
   "cell_type": "markdown",
   "id": "487dbfd9",
   "metadata": {},
   "source": [
    "1. 다음 문제를 읽고 알맞은 코드를 제시하시오."
   ]
  },
  {
   "cell_type": "markdown",
   "id": "4565f918",
   "metadata": {},
   "source": [
    "- 1) 파일 s.txt 내의 다음 내용과 함께 아래 문제의 코드를 제시하시오.\n",
    "    > pig ham  \n",
    "    cat dog  \n",
    "    ham bird  \n",
    "    dog pig  "
   ]
  },
  {
   "cell_type": "code",
   "execution_count": 1,
   "id": "eed68ffa",
   "metadata": {
    "scrolled": true
   },
   "outputs": [
    {
     "name": "stdout",
     "output_type": "stream",
     "text": [
      "pig ham\n",
      "cat dog\n",
      "ham bird\n",
      "dog pig\n",
      "\n"
     ]
    }
   ],
   "source": [
    "with open('s.txt', 'w') as s :\n",
    "    s.write('pig ham\\n')\n",
    "    s.write('cat dog\\n')\n",
    "    s.write('ham bird\\n')\n",
    "    s.write('dog pig\\n')\n",
    "    \n",
    "with open('s.txt', 'r') as s :\n",
    "    print(s.read())"
   ]
  },
  {
   "cell_type": "markdown",
   "id": "07600aa1",
   "metadata": {},
   "source": [
    "    \n",
    "    \n",
    "- 2) 파일 s.txt를 읽어서 각 라인에 있는 첫 번째 단어(문자열) 자체들을 기준으로 라인별 정렬후 파일 s1.txt에 그 결과를 기록하는 코드를 작성하시오. 즉, 프로그램 수행 후 s1.txt에 있는 파일 내용은 다음과 같다.\n",
    "    > cat dog  \n",
    "    dog pig  \n",
    "    ham bird  \n",
    "    pig ham  "
   ]
  },
  {
   "cell_type": "code",
   "execution_count": 2,
   "id": "a3a9f452",
   "metadata": {},
   "outputs": [
    {
     "name": "stdout",
     "output_type": "stream",
     "text": [
      "cat dog\n",
      "dog pig\n",
      "ham bird\n",
      "pig ham\n",
      "\n"
     ]
    }
   ],
   "source": [
    "split_list = []\n",
    "lis = []\n",
    "\n",
    "with open('s.txt', 'r') as s :\n",
    "    lis = s.readlines()\n",
    "            \n",
    "    for element in lis :\n",
    "        split_list.append(element.split(' '))\n",
    "            \n",
    "    split_list.sort(key = lambda first : first[0])\n",
    "    for i in range(len(split_list)) :\n",
    "        lis[i] = ' '.join(split_list[i])\n",
    "            \n",
    "with open('s1.txt', 'w') as s1 :\n",
    "    for word in lis :\n",
    "        s1.write(word)\n",
    "            \n",
    "with open('s1.txt', 'r') as s1 :\n",
    "    print(s1.read())"
   ]
  },
  {
   "cell_type": "markdown",
   "id": "e5e2ceb1",
   "metadata": {},
   "source": [
    "- 3) 파일 s.txt를 읽어서 각 라인에 있는 두 번째 단어(문자열) 자체들을 기준으로 라인별 정렬후 파일 s2.txt에 그 결과를 기록하는 코드를 작성하시오. 즉, 프로그램 수행 후 s2.txt에 있는 파일 내용은 다음과 같다.\n",
    "    > ham bird  \n",
    "    cat dog  \n",
    "    pig ham  \n",
    "    dog pig  "
   ]
  },
  {
   "cell_type": "code",
   "execution_count": 3,
   "id": "6c6dd743",
   "metadata": {},
   "outputs": [
    {
     "name": "stdout",
     "output_type": "stream",
     "text": [
      "ham bird\n",
      "cat dog\n",
      "pig ham\n",
      "dog pig\n",
      "\n"
     ]
    }
   ],
   "source": [
    "split_list = []\n",
    "lis = []\n",
    "\n",
    "with open('s.txt', 'r') as s :\n",
    "    lis = s.readlines()\n",
    "            \n",
    "    for element in lis :\n",
    "        split_list.append(element.split(' '))\n",
    "            \n",
    "    split_list.sort(key = lambda second : second[1])\n",
    "    for i in range(len(split_list)) :\n",
    "        lis[i] = ' '.join(split_list[i])\n",
    "            \n",
    "with open('s2.txt', 'w') as s2 :\n",
    "    for word in lis :\n",
    "        s2.write(word)\n",
    "            \n",
    "with open('s2.txt', 'r') as s2 :\n",
    "    print(s2.read())"
   ]
  },
  {
   "cell_type": "markdown",
   "id": "98cb344d",
   "metadata": {},
   "source": [
    "- 4) 파일 s.txt를 읽어서 각 라인들에 있는 모든 단어들을 순차적으로 다시 나열하되, 각 라인에 세 개의 단어들이 오도록 하여 s3.txt에 기록하는 코드를 작성하시오. 즉, 프로그램 수행 후 s3.txt에 있는 파일 내용은 다음과 같다.\n",
    "    > pig ham cat  \n",
    "    dog ham bird  \n",
    "    dog pig  "
   ]
  },
  {
   "cell_type": "code",
   "execution_count": 4,
   "id": "612636a2",
   "metadata": {},
   "outputs": [
    {
     "name": "stdout",
     "output_type": "stream",
     "text": [
      "pig ham cat\n",
      "dog ham bird\n",
      "dog pig\n",
      "\n"
     ]
    }
   ],
   "source": [
    "split_list = []\n",
    "lis = []\n",
    "\n",
    "with open('s.txt', 'r') as s :\n",
    "    lis = s.readlines()\n",
    "\n",
    "    for element in lis :\n",
    "        split_list.append(element[ : -1].split(' '))\n",
    "    \n",
    "    char_list = [split_list[i][j] for i in range(len(split_list)) \n",
    "                 for j in range(len(split_list[i]))]\n",
    "\n",
    "    lis = []\n",
    "    for i in range(0, len(char_list), 3) :\n",
    "        k = i + 3 if i + 3 <= len(char_list) else len(char_list)\n",
    "\n",
    "        gain = [char_list[j] for j in range(i, k)]\n",
    "        lis.append(' '.join(gain) + '\\n')\n",
    "\n",
    "with open('s3.txt', 'w') as s3 :\n",
    "    for word in lis :\n",
    "        s3.write(word)\n",
    "            \n",
    "with open('s3.txt', 'r') as s3 :\n",
    "    print(s3.read())"
   ]
  },
  {
   "cell_type": "markdown",
   "id": "50eaaf62",
   "metadata": {},
   "source": [
    "---"
   ]
  },
  {
   "cell_type": "markdown",
   "id": "ab403793",
   "metadata": {},
   "source": [
    "2. 다음과 같은 조건들을 참고하여 회원 가입 및 로그인 프로그램을 작성하시오.\n",
    "    - 1) 프로그램 시작 후 다음과 같은 메시지가 출력되어 1, 2, 3 중 하나의 값을 입력 받도록 한다.\n",
    "    > Welcome to Our Service  \n",
    "    A. Sign Up  \n",
    "    B. Sign In  \n",
    "    C. Quit  \n",
    "    - 2) 1을 선택하면 ID, Passwor, Name, School의 4가지 정보를 입력받아 파일에 저장하는 프로그램을 작성한다.\n",
    "        - 2-1) 입력된 내용은 access.txt 라는 이름의 텍스트 파일 내에 저장된다.\n",
    "        - 2-2) access.txt 파일의 각 라인에는 가입된 회원 각각의 정보가 \"[id]: [password], [name], [school]\" 형태로 저장된다.\n",
    "        - 2-3) 즉, 가입 회원이 10명이면 access.txt 파일 내에 라인 수도 정확히 10개이다.\n",
    "        - 2-4) 암호화 방식은 sha 모듈을 활용한다. sha 모듈 활용 방법은 본 문제의 마지막에 제시된 sha 활용 예를 참고한다.\n",
    "            - 즉, access.txt 파일 내에 password 정보는 암호화 되어 저장되어야 한다.\n",
    "        - 2-5) 회원 정보를 입력 받을 때 id를 입력 받은 직후 access.txt를 확인하여 이미 존재하는 id가 입력되었다면 다음 메시지를 출력하고 id 정보를 다시 입력받는다.\n",
    "            - Sorry, the entered ID is already used.\n",
    "    - 3) 2를 선택하면 ID, Password의 2가지 정보를 입력받는 프로그램을 작성한다.\n",
    "        - 3-1) 입력된 ID 정보가 access.txt에 존재하지 않으면 다음과 같은 메시지를 출력하고 다시 입력받는다.\n",
    "            - Sorry, you are not a registered member.\n",
    "        - 3-2) 입력된 ID가 올바르게 존재하지만 Password 정보가 access.txt 파일에 있는 정보와 불일치하면 다음과 같은 메시지를 출력하고 Password를 다시 입력받는다.\n",
    "            - Sorry, the entered password is not correct.\n",
    "            - 이 때에도 사용자가 입력한 Password 정보와 함께 sha 모듈이 활용되어야 한다.\n",
    "        - 3-3) 3-3) 입력된 ID와 Password가 모두 올바르면 다음과 같은 메시지를 출력한다.\n",
    "            - Hello [name]!\n",
    "            - 위 [name]에는 access.txt에 기록되어 있는 name 정보를 출력한다.\n",
    "        - 4) 3을 선택하면 프로그램이 끝난다.\n",
    "        - [참고] sha 모듈 활용 예"
   ]
  },
  {
   "cell_type": "code",
   "execution_count": 5,
   "id": "467b596e",
   "metadata": {},
   "outputs": [
    {
     "name": "stdout",
     "output_type": "stream",
     "text": [
      "b94d27b9934d3e08a52e52d7da7dabfac484efe37a5380ee9088f7ace2efcde9\n"
     ]
    }
   ],
   "source": [
    "import hashlib\n",
    "\n",
    "pw = \"hello world\"\n",
    "pw_encrypted = hashlib.sha256(pw.encode()).hexdigest()\n",
    "print(pw_encrypted)"
   ]
  },
  {
   "cell_type": "code",
   "execution_count": 6,
   "id": "37d66e87",
   "metadata": {},
   "outputs": [
    {
     "name": "stdout",
     "output_type": "stream",
     "text": [
      "Welcome to Our Service\n",
      "A. Sign Up\n",
      "B. Sign In\n",
      "C. Quit\n",
      "\n",
      "2\n",
      "Enter your id and password.\n",
      "id : nonono\n",
      "Sorry, you are not a registered member.\n",
      "id : nono\n",
      "Sorry, you are not a registered member.\n",
      "id : no\n",
      "pw : not\n",
      "Sorry, the entered password is not correct.\n",
      "pw : no\n",
      "Hello no!\n"
     ]
    }
   ],
   "source": [
    "import hashlib\n",
    "\n",
    "class service :\n",
    "    \n",
    "    def __init__(self) :\n",
    "        with open('access.txt', 'a') as f :\n",
    "            f.close()\n",
    "    \n",
    "    def sign_up(self) :\n",
    "        with open('access.txt', 'r+') as f :\n",
    "            info_list = f.readlines()\n",
    "            id_list = [user_info[1 : user_info.find(':') - 1] \n",
    "                       for user_info in info_list]\n",
    "            while True :\n",
    "                ID = input('id : ')\n",
    "                existed, index = service.compare(ID, None, 0, id_list)\n",
    "                if existed : \n",
    "                    print(\"Sorry, the entered ID is already used.\")\n",
    "                    continue\n",
    "                break\n",
    "\n",
    "            Pw = input('pw : ')\n",
    "            Pw_enc = hashlib.sha256(Pw.encode()).hexdigest()\n",
    "            Name = input('name : ')\n",
    "            School = input('school : ')\n",
    "            \n",
    "            f.write(\"[{}]: [{}], [{}], [{}]\\n\".format(ID, Pw_enc, Name, School))\n",
    "    \n",
    "    def sign_in(self) :\n",
    "        with open('access.txt', 'r+') as f :\n",
    "            info_list = f.readlines()\n",
    "            id_list = [user_info[1 : user_info.find(':') - 1] \n",
    "                       for user_info in info_list]\n",
    "            pw_list = [user_info[user_info.find(':') + 3 : \n",
    "                                 user_info.find(']', user_info.find(':'))] \n",
    "                                 for user_info in info_list]\n",
    "            id_index = 0\n",
    "            while True :\n",
    "                ID = input('id : ')\n",
    "                existed, id_index = service.compare(ID, None, 0, id_list)\n",
    "                if not existed : \n",
    "                    print(\"Sorry, you are not a registered member.\")\n",
    "                    continue\n",
    "                break\n",
    "                \n",
    "            while True :\n",
    "                Pw = input('pw : ')\n",
    "                compared, ind = service.compare(None, Pw, id_index, pw_list)\n",
    "                if not compared :\n",
    "                    print(\"Sorry, the entered password is not correct.\")\n",
    "                    continue\n",
    "                break\n",
    "                \n",
    "            print(\"Hello {}!\".format(id_list[id_index]))\n",
    "    \n",
    "    def quit(self) :\n",
    "        return\n",
    "    \n",
    "    def compare(ID, Pw, index, compareList) :\n",
    "        if Pw is None :\n",
    "            for element in compareList :\n",
    "                if ID == element :\n",
    "                    return True, compareList.index(element)\n",
    "        elif ID is None :\n",
    "            input_pw = hashlib.sha256(Pw.encode()).hexdigest()\n",
    "            if input_pw == compareList[index] : return True, index\n",
    "        return False, index\n",
    "    \n",
    "def program() :\n",
    "    service_run = service()\n",
    "    print(\"Welcome to Our Service\")\n",
    "    print(\"A. Sign Up\")\n",
    "    print(\"B. Sign In\")\n",
    "    print(\"C. Quit\")\n",
    "    print()\n",
    "    \n",
    "    select = int(input())\n",
    "    if select == 1 : \n",
    "        print(\"Enter the id, password, name, and school.\")\n",
    "        service_run.sign_up()\n",
    "    elif select == 2 : \n",
    "        print(\"Enter your id and password.\")\n",
    "        service_run.sign_in()\n",
    "    elif select == 3 : service_run.quit()\n",
    "    \n",
    "program()"
   ]
  },
  {
   "cell_type": "markdown",
   "id": "e9de5854",
   "metadata": {},
   "source": [
    "---"
   ]
  },
  {
   "cell_type": "markdown",
   "id": "ccefa54e",
   "metadata": {},
   "source": [
    "3. range() 함수와 유사한 frange() 함수를 다음 조건을 참고하여 만드시오.\n",
    "\n",
    "    - 1) frange()의 인자 구성은 다음과 같이 range와 동일하지만 각 인수들은 음수를 받지 않는다고 가정한다.\n",
    "    > range(stop)  \n",
    "    range(start, stop[, step])\n",
    "\n",
    "    - 2) frange() 함수의 인자에 대한 기본 시작(start) 값은 0.0이고, 기본 단계(step) 값은 0.1이다.\n",
    "    - 3) frange 사용 예\n",
    "        - 3-1) frange(0.5)\n",
    "            - [0.0, 0.1, 0.2, 0.3, 0.4]\n",
    "        - 3-2) frange(1.0, 2.0)\n",
    "            - [1.0, 1.1, 1.2, 1.3, 1.4, 1.5, 1.6, 1.7, 1.8, 1.9]\n",
    "        - 3-3) frange(2.2, 4.0, 0.5)\n",
    "            - [2.2, 2.7, 3.2, 3.7]"
   ]
  },
  {
   "cell_type": "code",
   "execution_count": 7,
   "id": "4bc52eae",
   "metadata": {},
   "outputs": [
    {
     "name": "stdout",
     "output_type": "stream",
     "text": [
      "[0.0, 0.1, 0.2, 0.3, 0.4]\n",
      "[1.0, 1.1, 1.2, 1.3, 1.4, 1.5, 1.6, 1.7, 1.8, 1.9]\n",
      "[2.2, 2.7, 3.2, 3.7]\n"
     ]
    }
   ],
   "source": [
    "def frange(start, stop = -1, step = 0.1) :\n",
    "    if stop == -1 :\n",
    "        stop = start\n",
    "        start = 0\n",
    "    range_list = [round(start + element * step, len(str(step))) \n",
    "                  for element in range((int)((stop - start) // step) + 1)]\n",
    "    print(range_list)\n",
    "\n",
    "frange(0.5)\n",
    "frange(1.0, 2.0)\n",
    "frange(2.2, 4.0, 0.5)"
   ]
  },
  {
   "cell_type": "markdown",
   "id": "59d19e6f",
   "metadata": {},
   "source": [
    "---"
   ]
  },
  {
   "cell_type": "markdown",
   "id": "0b59c710",
   "metadata": {},
   "source": [
    "4. 가변인수를 받는 함수 sum()을 다음과 같은 조건을 참고하여 구현하시오\n",
    "\n",
    "    - sum() 사용 예"
   ]
  },
  {
   "cell_type": "markdown",
   "id": "20a9d118",
   "metadata": {},
   "source": [
    "> sum()  \n",
    "> 0\n",
    ">  \n",
    "> sum(1, 2)  \n",
    "> 3  \n",
    ">    \n",
    "> sum(1, 2, 3, 4, 5)  \n",
    "> 15  \n",
    ">  \n",
    "> sum(1, 5, 7, 2, -10)  \n",
    "> 5  "
   ]
  },
  {
   "cell_type": "code",
   "execution_count": 8,
   "id": "df891f85",
   "metadata": {},
   "outputs": [
    {
     "name": "stdout",
     "output_type": "stream",
     "text": [
      "0\n",
      "3\n",
      "15\n",
      "5\n"
     ]
    }
   ],
   "source": [
    "def sum(*num) :\n",
    "    result = 0\n",
    "    for element in num :\n",
    "        result += element\n",
    "    return result\n",
    "\n",
    "print(sum())\n",
    "print(sum(1, 2))\n",
    "print(sum(1, 2, 3, 4, 5))\n",
    "print(sum(1, 5, 7, 2, -10))"
   ]
  },
  {
   "cell_type": "markdown",
   "id": "058665a6",
   "metadata": {},
   "source": [
    "---"
   ]
  },
  {
   "cell_type": "markdown",
   "id": "70f9e8ca",
   "metadata": {},
   "source": [
    "5. 여러 단어로 이루어진 문자열을 입력받아 각 단어의 첫글자로 이루어진 단어를 대문자로 출력하는 myinitial() 함수를 다음 조건을 참고하여 작성하시오.\n",
    "\n",
    "    - 1) 다음에 제시되는 함수들을 모두 이용해야 한다.\n",
    "\n",
    "        - split\n",
    "        - map\n",
    "        - join  \n",
    "        \n",
    "    - 2) myinitial() 함수 사용 예\n",
    "\n",
    "        - myinitial(\"as soon as possible\")\n",
    "            - ASAP"
   ]
  },
  {
   "cell_type": "code",
   "execution_count": 9,
   "id": "c986f6d1",
   "metadata": {},
   "outputs": [
    {
     "name": "stdout",
     "output_type": "stream",
     "text": [
      "ASAP\n",
      "PSPT\n"
     ]
    }
   ],
   "source": [
    "def myinitial(string) :\n",
    "    split_list = string.split(' ')\n",
    "    map_list = list(map(lambda x : x[0].upper(), split_list))\n",
    "    joinStr = ''.join(map_list)\n",
    "    print(joinStr)\n",
    "    \n",
    "myinitial(\"as soon as possible\")\n",
    "myinitial(\"python script programming task\")"
   ]
  },
  {
   "cell_type": "markdown",
   "id": "5e75b1fb",
   "metadata": {},
   "source": [
    "---"
   ]
  },
  {
   "cell_type": "markdown",
   "id": "a77e8f60",
   "metadata": {},
   "source": [
    "6. 음이 아닌 정수 n을 입력받으면 n! (factorial)을 계산하는 myfact() 함수를 재귀적 함수로 구현하시오.\n",
    "    - [옵션] 참을 수 있는 정도 만큼의 수행시간을 직접 기다려보면서 n을 늘려보도록 합시다."
   ]
  },
  {
   "cell_type": "code",
   "execution_count": 10,
   "id": "08d5add0",
   "metadata": {},
   "outputs": [
    {
     "name": "stdout",
     "output_type": "stream",
     "text": [
      "120\n"
     ]
    }
   ],
   "source": [
    "def myfact(n) : \n",
    "    if n == 1 or n == 0 : return 1\n",
    "    elif n > 1 : return n * myfact(n - 1)\n",
    "    else : return\n",
    "\n",
    "print(myfact(5))"
   ]
  },
  {
   "cell_type": "markdown",
   "id": "3968f436",
   "metadata": {},
   "source": [
    "---"
   ]
  },
  {
   "cell_type": "markdown",
   "id": "a85b6fad",
   "metadata": {},
   "source": [
    "7. (서술형) import string 과 from string import * 의 차이점을 설명하시오."
   ]
  },
  {
   "cell_type": "markdown",
   "id": "cdb7db76",
   "metadata": {},
   "source": [
    "- import string처럼 import만 사용할 경우 모듈 안의 함수를 사용할 때, 모듈명.함수명()으로 호출해야 하고 from string import * 처럼 from 모듈명 import * 은 모듈의 모든 것을 import하여 함수명()으로 호출이 가능하다."
   ]
  },
  {
   "cell_type": "markdown",
   "id": "c3d31bbe",
   "metadata": {},
   "source": [
    "---"
   ]
  },
  {
   "cell_type": "markdown",
   "id": "aefb3030",
   "metadata": {},
   "source": [
    "### [Incremental Project 문제]"
   ]
  },
  {
   "cell_type": "markdown",
   "id": "1ce80768",
   "metadata": {},
   "source": [
    "**이전 Assignment 3의 마지막 문제는 웹 URL로 지정된 웹페이지를 문자열로 가져와 모든 HTML 태그 및 CSS와 Javascript를 제외한 순수 텍스트를 얻어내고 그 안에 존재하는 단어를 추출하여 각 단어들에 대해 출현빈도를 사전형태({'world': 2, 'hello': 1, 'python': 1})로 저장하여 출력하는 것이었다. 이번에는 Assignment 3를 확장하여 다음과 같은 조건을 만족하도록 구현하시오.**\n",
    "\n",
    "- 1) 다음 사이트에서 제시되는 불용어 (Stop words)를 참고하여 이전 숙제에서 구성했던 단어 사전에서 불용어들을 모두 제거하는 코드를 추가하시오.\n",
    "    - 영어 불용어: https://countwordsfree.com/stopwords\n",
    "        - 화면 상단 오른쪽 txt 파일 다운 받아 활용\n",
    "    - 한글 불용어: https://raw.githubusercontent.com/stopwords-iso/stopwords-ko/master/stopwords-ko.txt\n",
    "- 2) 각 URL로 지정된 웹페이지의 HTML 소스를 파일로 저장하시오.\n",
    "    - URL이 http://URL 이라면 파일명은 URL.html 이다.\n",
    "        - 예: URL이 http://www.cnn.com 이라면 파일명은 www.cnn.com.html 이다.\n",
    "- 3) 단어의 출현빈도가 담긴 사전 객체를 위 HTML 소스 파일과 동일한 폴더에 파일로 저장하시오.\n",
    "    - 파일입출력 (E-learning 13주차) 마지막에 학습한 pickle 모듈을 활용하시오.\n",
    "    - URL이 http://URL 이라면 사전 객체를 담고 있는 파일명은 URL.words_frequency.pickle 이다.\n",
    "        - 예: URL이 http://www.cnn.com 이라면 파일명은 www.cnn.com.words_frequency.pickle 이다.\n",
    "- 4) 최소 5개 이상의 웹 사이트 각각에 대한 HTML 소스 파일과 단어 출현빈도 파일을 저장하시오.\n",
    "    - 즉, 5개의 웹 사이트에 대해 총 10개의 파일을 동일한 폴더에 생성하시오.\n",
    "    - [주의] 가능하면 웹사이트에 단어들이 많고 다루는 주제가 서로 다른 웹 사이트들로 선정하는 것 추천\n",
    "- 5) 위 문제에서 저장한 모든 pickle 파일들을 객체로 다시 로드하여 본인이 저장하여 분석한 사이트들 각각에 대해서 가장 많이 출현한 단어 3개씩를 뽑아 제시하시오.\n",
    "    - 반드시 pickle 모듈로 저장한 5개 이상의 pickle 파일들을 다시 5개 이상의 사전 객체로 로드 하는 코드가 추가되어야 함\n",
    "- 6) 간단한 검색엔진 코딩 (Like Google!!!)\n",
    "    - 사용자에게 임의의 검색어 (하나 또는 여러 단어로 구성) 를 입력받으시오.\n",
    "        - 예:\n",
    "            - 대한민국\n",
    "            - 컴퓨터 공학\n",
    "            - 맛있는 음식\n",
    "            - 파이썬\n",
    "            - 한기대 장점\n",
    "    - 입력받은 검색어들에 대해서도 1)에서 제시하는 방법처럼 불용어 처리를 하여 정리\n",
    "    - 입력 받은 검색어와 유사도(Similarity)가 높은 웹 사이트 기준으로 위 4)에서 미리 지정해 놓은 5개 이상의 웹 사이트 URL들을 일렬로 나열하여 출력하시오.\n",
    "        - 검색어와 웹 사이트 간의 유사도는 본인이 스스로 정하시오.\n",
    "        - 유사도를 정하는 최소한의 기준은 단어 출현 빈도를 기반으로 해야 하며, 이외의 본인이 생각하는 방안이 있으면 함께 사용해도 됨.\n",
    "        - 유사도가 높은 웹 사이트가 상위에 출력되어야 함 (즉, 유사도 기준 내림 차순)\n",
    "        - 유사도가 동일한 웹 사이트들에 대해서는 임의 배치함.\n",
    "- 7) [주의] 필수사항\n",
    "    -위에서 만든 검색엔진 코딩은 매우 간단한 것이라 부족한 점이 많이 존재한다.\n",
    "    - 본인이 생각하기에 상업적인 완성도 높은 검색 로봇/엔진이 되려면 어떤 기능들이 추가적으로 구현되어야 할지 최소 1가지 이상 제시하시오."
   ]
  },
  {
   "cell_type": "code",
   "execution_count": 11,
   "id": "3dd0673d",
   "metadata": {},
   "outputs": [
    {
     "name": "stdout",
     "output_type": "stream",
     "text": [
      "검색어 입력 : 한국기술교육대학교\n",
      "https://www.koreatech.ac.kr : 16개의 검색결과\n",
      "http://link.koreatech.ac.kr : 4개의 검색결과\n",
      "http://www.naver.com : 0개의 검색결과\n",
      "http://www.daum.net : 0개의 검색결과\n",
      "http://www.nytimes.com : 0개의 검색결과\n"
     ]
    }
   ],
   "source": [
    "import requests\n",
    "import string\n",
    "import pickle\n",
    "\n",
    "req = requests.get('http://link.koreatech.ac.kr/')\n",
    "source = req.text\n",
    "punct = string.punctuation\n",
    "\n",
    "# 추후 숙제 답안 제출 때엔 아래 코드는 주석처리할 것\n",
    "# print(source)\n",
    "# print(punct)\n",
    "\n",
    "def return_word_Num_dictionary(link) :\n",
    "    req = requests.get(link)\n",
    "    source = req.text\n",
    "    \n",
    "    htmlTag = 0\n",
    "    pureStr = ''\n",
    "    pureStr_list = []\n",
    "    none_css_jvsc = True\n",
    "    for i in range(len(source)) :\n",
    "        css = ''\n",
    "        jvsc = ''\n",
    "        if source[i] == '<' and htmlTag == 0 :\n",
    "            # 요구사항 1\n",
    "            # 과제3에서 잘못 구현한 부분 수정\n",
    "            pureStr += ' '\n",
    "            if i + 7 <= len(source) :\n",
    "                for j in range(i + 1, i + 7) :\n",
    "                    css += source[j]\n",
    "            if i + 8 <= len(source) :\n",
    "                for k in range(i + 1, i + 8) :\n",
    "                    jvsc += source[k]\n",
    "            #print(css, jvsc)\n",
    "            if css[ : -1] == 'style' or jvsc[ : -1] == 'script' :\n",
    "                none_css_jvsc = False\n",
    "            if css == '/style' or jvsc == '/script' and not none_css_jvsc :\n",
    "                none_css_jvsc = True\n",
    "                htmlTag = 1\n",
    "            if none_css_jvsc : htmlTag = 1\n",
    "        if source[i] == '>' and htmlTag == 1 :\n",
    "            htmlTag = 0\n",
    "            continue\n",
    "        if htmlTag == 0 and none_css_jvsc:\n",
    "            pureStr += source[i]\n",
    "            \n",
    "    pureStr_list_p = pureStr.split()\n",
    "    \n",
    "    # 요구사항 2\n",
    "    for i in range(len(pureStr_list_p)) :\n",
    "        pureStr_list_p[i] = pureStr_list_p[i].strip().strip(punct)\n",
    "        \n",
    "    for i in range(len(pureStr_list_p)) :\n",
    "        for j in punct :\n",
    "            while j in pureStr_list_p[i] :\n",
    "                for k in range(len(pureStr_list_p[i])) :\n",
    "                    indx = pureStr_list_p[i].find(j)\n",
    "                    pureStr_list_p[i] = pureStr_list_p[i][ : indx] + ' ' + \\\n",
    "                    pureStr_list_p[i][indx + 1 : ]\n",
    "                    break\n",
    "\n",
    "    pureStr_list = ' '.join(pureStr_list_p).split()\n",
    "    #print(pureStr_list)\n",
    "    #print(pureStr_list_p)\n",
    "    \n",
    "    # 요구사항 3\n",
    "    blank = pureStr_list.count('')\n",
    "    for i in range(blank) :\n",
    "        pureStr_list.remove('')\n",
    "    \n",
    "    # 요구사항 4\n",
    "    word_dict = {i : 0 for i in pureStr_list}\n",
    "    for i in word_dict.keys() :\n",
    "        for j in pureStr_list :\n",
    "            if j == i :\n",
    "                word_dict[i] += 1\n",
    "        \n",
    "    #print(pureStr.split())\n",
    "    #print(pureStr_list)\n",
    "    #return len(pureStr.split())\n",
    "    \n",
    "    delete_list = []\n",
    "    with open('stop_words.txt', 'r', encoding = 'utf-8') as f :\n",
    "        stopword_list = f.readlines()\n",
    "        for i in range(len(stopword_list)) :\n",
    "            stopword_list[i] = stopword_list[i][ : -1]\n",
    "        for element in stopword_list :\n",
    "            for keys in word_dict.keys() :\n",
    "                if element == keys : delete_list.append(keys)\n",
    "                    \n",
    "    for element in delete_list :\n",
    "        del word_dict[element]\n",
    "    \n",
    "    filename = link[link.find('//') + 2 : ]\n",
    "    #print(link)\n",
    "    #print(link[link.find('//') + 2 : ])\n",
    "    with open('{}.html'.format(filename), 'w', encoding = 'utf-8') as f :\n",
    "        f.write(source)\n",
    "        \n",
    "    with open('{}.words_frequency.pickle'.format(filename), 'wb') as f :\n",
    "        pickle.dump(word_dict, f)\n",
    "    \n",
    "    return link, word_dict\n",
    "\n",
    "def search_engine() :\n",
    "    search_input = input(\"검색어 입력 : \")\n",
    "    split_input = search_input.split(' ')\n",
    "    with open('stop_words.txt', 'r', encoding = 'utf-8') as f :\n",
    "        stopword_list = f.readlines()\n",
    "        for i in range(len(stopword_list)) :\n",
    "            stopword_list[i] = stopword_list[i][ : -1]\n",
    "        for element in stopword_list :\n",
    "            for search in split_input :\n",
    "                if element == search : \n",
    "                    split_input.remove(search)\n",
    "\n",
    "    search_m = ' '.join(split_input)\n",
    "    link1, first = return_word_Num_dictionary('http://link.koreatech.ac.kr')\n",
    "    link2, second = return_word_Num_dictionary('https://www.koreatech.ac.kr')\n",
    "    link3, third = return_word_Num_dictionary('http://www.naver.com')\n",
    "    link4, fourth = return_word_Num_dictionary('http://www.daum.net')\n",
    "    link5, fifth = return_word_Num_dictionary('http://www.nytimes.com')\n",
    "    \n",
    "    sim = []\n",
    "    if search_m in first : sim.append((link1, first[search_m]))\n",
    "    else : sim.append((link1, 0))\n",
    "    if search_m in second : sim.append((link2, second[search_m]))\n",
    "    else : sim.append((link2, 0))\n",
    "    if search_m in third : sim.append((link3, third[search_m]))\n",
    "    else : sim.append((link3, 0))\n",
    "    if search_m in fourth : sim.append((link4, fourth[search_m]))\n",
    "    else : sim.append((link4, 0))\n",
    "    if search_m in fifth : sim.append((link5, fifth[search_m]))\n",
    "    else : sim.append((link5, 0))\n",
    "        \n",
    "#     print(first)\n",
    "#     print(second)\n",
    "#     print(third)\n",
    "#     print(fourth)\n",
    "#     print(fifth)\n",
    "    sim.sort(key = lambda s : s[1], reverse = True)\n",
    "    for l in sim :\n",
    "        print(\"{} : {}개의 검색결과\".format(l[0], l[1]))\n",
    "    #print(search_m)\n",
    "                \n",
    "\n",
    "# 요구사항 5\n",
    "# print(return_word_Num_dictionary('http://link.koreatech.ac.kr'))\n",
    "# print(return_word_Num_dictionary('https://www.koreatech.ac.kr'))\n",
    "# print(return_word_Num_dictionary('http://www.naver.com'))\n",
    "# print(return_word_Num_dictionary('http://www.daum.net'))\n",
    "# print(return_word_Num_dictionary('http://www.nytimes.com'))\n",
    "\n",
    "search_engine()"
   ]
  },
  {
   "cell_type": "markdown",
   "id": "b3f0d5c6",
   "metadata": {},
   "source": [
    "- 7) 미완성 검색어에 대한 처리, 사용자들이 검색어 입력후 특정 사이트를 방문한 빈도, 사용자가 자주 방문하는 사이트와 관련되어 맞춤형 광고 등의 기능이 추가적으로 구현되어야 할 것 같습니다."
   ]
  }
 ],
 "metadata": {
  "kernelspec": {
   "display_name": "Python 3",
   "language": "python",
   "name": "python3"
  },
  "language_info": {
   "codemirror_mode": {
    "name": "ipython",
    "version": 3
   },
   "file_extension": ".py",
   "mimetype": "text/x-python",
   "name": "python",
   "nbconvert_exporter": "python",
   "pygments_lexer": "ipython3",
   "version": "3.8.8"
  }
 },
 "nbformat": 4,
 "nbformat_minor": 5
}
